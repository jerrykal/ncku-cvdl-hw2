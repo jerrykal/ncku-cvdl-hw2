{
 "cells": [
  {
   "cell_type": "code",
   "execution_count": 1,
   "metadata": {},
   "outputs": [],
   "source": [
    "import torch\n",
    "import os\n",
    "\n",
    "from matplotlib import pyplot as plt\n",
    "from torch.utils.data import DataLoader\n",
    "\n",
    "from cat_dog_dataset import CatDogDataset\n",
    "from custom_resnet50 import CustomResNet50\n",
    "from train_resnet50 import transform_val"
   ]
  },
  {
   "cell_type": "code",
   "execution_count": 2,
   "metadata": {},
   "outputs": [],
   "source": [
    "val_dataset = CatDogDataset(\n",
    "    root_dir=os.path.abspath(\n",
    "        os.path.join(os.path.abspath(\"\"), os.pardir, \"data\", \"Q5\", \"validation_dataset\")\n",
    "    ),\n",
    "    transform=transform_val,\n",
    ")\n",
    "val_loader = DataLoader(val_dataset, batch_size=32, shuffle=False)"
   ]
  },
  {
   "cell_type": "code",
   "execution_count": 3,
   "metadata": {},
   "outputs": [
    {
     "data": {
      "text/plain": [
       "<All keys matched successfully>"
      ]
     },
     "execution_count": 3,
     "metadata": {},
     "output_type": "execute_result"
    }
   ],
   "source": [
    "device = \"cuda\" if torch.cuda.is_available() else \"cpu\"\n",
    "\n",
    "model = CustomResNet50().to(device)\n",
    "model.load_state_dict(\n",
    "    torch.load(\n",
    "        os.path.abspath(\n",
    "            os.path.join(os.path.abspath(\"\"), os.pardir, \"models\", \"resnet50.pth\")\n",
    "        ),\n",
    "        map_location=device,\n",
    "    ),\n",
    ")"
   ]
  },
  {
   "cell_type": "code",
   "execution_count": 4,
   "metadata": {},
   "outputs": [
    {
     "data": {
      "text/plain": [
       "<All keys matched successfully>"
      ]
     },
     "execution_count": 4,
     "metadata": {},
     "output_type": "execute_result"
    }
   ],
   "source": [
    "model_re = CustomResNet50().to(device)\n",
    "model_re.load_state_dict(\n",
    "    torch.load(\n",
    "        os.path.abspath(\n",
    "            os.path.join(os.path.abspath(\"\"), os.pardir, \"models\", \"resnet50_re.pth\")\n",
    "        ),\n",
    "        map_location=device,\n",
    "    )\n",
    ")"
   ]
  },
  {
   "cell_type": "code",
   "execution_count": 5,
   "metadata": {},
   "outputs": [],
   "source": [
    "acc_without_random_erasing = 0\n",
    "\n",
    "model.eval()\n",
    "with torch.no_grad():\n",
    "    for i, (inputs, labels) in enumerate(val_loader):\n",
    "        inputs = inputs.to(device)\n",
    "        labels = labels.to(device)\n",
    "\n",
    "        outputs = model(inputs).squeeze()\n",
    "        acc_without_random_erasing += (outputs.round() == labels).sum().item()\n",
    "\n",
    "acc_without_random_erasing = acc_without_random_erasing / len(val_dataset)"
   ]
  },
  {
   "cell_type": "code",
   "execution_count": 6,
   "metadata": {},
   "outputs": [],
   "source": [
    "acc_with_random_erasing = 0\n",
    "\n",
    "model_re.eval()\n",
    "with torch.no_grad():\n",
    "    for i, (inputs, labels) in enumerate(val_loader):\n",
    "        inputs = inputs.to(device)\n",
    "        labels = labels.to(device)\n",
    "\n",
    "        outputs = model_re(inputs).squeeze()\n",
    "        acc_with_random_erasing += (outputs.round() == labels).sum().item()\n",
    "\n",
    "acc_with_random_erasing = acc_with_random_erasing / len(val_dataset)"
   ]
  },
  {
   "cell_type": "code",
   "execution_count": 7,
   "metadata": {},
   "outputs": [
    {
     "name": "stdout",
     "output_type": "stream",
     "text": [
      "Accuracy without random erasing: 83.44%\n",
      "Accuracy with random erasing: 88.44%\n"
     ]
    }
   ],
   "source": [
    "print(\n",
    "    \"Accuracy without random erasing: {:.2f}%\".format(acc_without_random_erasing * 100)\n",
    ")\n",
    "print(\"Accuracy with random erasing: {:.2f}%\".format(acc_with_random_erasing * 100))"
   ]
  },
  {
   "cell_type": "code",
   "execution_count": 8,
   "metadata": {},
   "outputs": [
    {
     "data": {
      "image/png": "[encoded data removed]",
      "text/plain": [
       "<Figure size 1000x500 with 1 Axes>"
      ]
     },
     "metadata": {},
     "output_type": "display_data"
    }
   ],
   "source": [
    "plt.figure(figsize=(10, 5))\n",
    "plt.bar(\n",
    "    [\"Without Random Erasing\", \"With Random Erasing\"],\n",
    "    [acc_without_random_erasing * 100, acc_with_random_erasing * 100],\n",
    ")\n",
    "plt.title(\"Accuracy comparison\")\n",
    "plt.ylim(0, 100)\n",
    "plt.ylabel(\"Accuracy\")\n",
    "for i, v in enumerate(\n",
    "    [acc_without_random_erasing * 100, acc_with_random_erasing * 100]\n",
    "):\n",
    "    plt.text(i, v + 1, f\"{v:.2f}\", ha=\"center\", color=\"black\")\n",
    "\n",
    "plt.savefig(\n",
    "    os.path.abspath(\n",
    "        os.path.join(\n",
    "            os.path.abspath(\"\"), os.pardir, \"logs\", \"resnet50_acc_comparison.png\"\n",
    "        )\n",
    "    )\n",
    ")\n",
    "\n",
    "plt.show()"
   ]
  }
 ],
 "metadata": {
  "kernelspec": {
   "display_name": "cvdlhw2",
   "language": "python",
   "name": "python3"
  },
  "language_info": {
   "codemirror_mode": {
    "name": "ipython",
    "version": 3
   },
   "file_extension": ".py",
   "mimetype": "text/x-python",
   "name": "python",
   "nbconvert_exporter": "python",
   "pygments_lexer": "ipython3",
   "version": "3.10.13"
  }
 },
 "nbformat": 4,
 "nbformat_minor": 2
}
